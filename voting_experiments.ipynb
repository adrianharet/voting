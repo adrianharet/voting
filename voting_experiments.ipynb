{
 "cells": [
  {
   "cell_type": "code",
   "execution_count": 1,
   "metadata": {},
   "outputs": [],
   "source": [
    "from voting import *\n",
    "import random"
   ]
  },
  {
   "cell_type": "code",
   "execution_count": 10,
   "metadata": {},
   "outputs": [
    {
     "data": {
      "image/png": "[encoded data removed]",
      "text/plain": [
       "<Figure size 432x288 with 1 Axes>"
      ]
     },
     "metadata": {},
     "output_type": "display_data"
    }
   ],
   "source": [
    "A = ['a', 'b', 'c', 'd', 'e', 'f']\n",
    "E = [\n",
    "    ('a', 'b'), \n",
    "    ('b', 'c'),\n",
    "    ('c', 'd'),\n",
    "    ('d', 'e'),\n",
    "    ('e', 'f'),\n",
    "    ('f', 'a'),\n",
    "    ('a', 'd'),\n",
    "    ('e', 'b'),\n",
    "    ('c', 'f')\n",
    "    ]\n",
    "\n",
    "G = MajorityGraph(nodes = A, edge_list = E)\n",
    "G.draw()"
   ]
  },
  {
   "cell_type": "code",
   "execution_count": 11,
   "id": "8009097f",
   "metadata": {},
   "outputs": [
    {
     "data": {
      "text/plain": [
       "[['a', 'b', 'c', 'd', 'e', 'f'],\n",
       " ['a', 'b', 'c', 'f'],\n",
       " ['a', 'd', 'e', 'b', 'c', 'f'],\n",
       " ['a', 'd', 'e', 'f'],\n",
       " ['d', 'e', 'b', 'c']]"
      ]
     },
     "execution_count": 11,
     "metadata": {},
     "output_type": "execute_result"
    }
   ],
   "source": [
    "G.cycles()"
   ]
  },
  {
   "cell_type": "code",
   "execution_count": 12,
   "metadata": {},
   "outputs": [],
   "source": [
    "V = VotingRules(G)"
   ]
  },
  {
   "cell_type": "code",
   "execution_count": 13,
   "metadata": {},
   "outputs": [
    {
     "name": "stdout",
     "output_type": "stream",
     "text": [
      "{'abcdef', 'acdebf', 'acdefb', 'adebcf', 'aebcdf', 'aebcfd', 'cadebf', 'cadefb', 'cdefab', 'cefabd', 'cefadb', 'cfadeb', 'eabcdf', 'eabcfd', 'ebcfad', 'ecfabd', 'ecfadb', 'efabcd'}\n"
     ]
    }
   ],
   "source": [
    "V.compute_Slater_result()\n",
    "V.show_Slater_result()"
   ]
  },
  {
   "cell_type": "code",
   "execution_count": 6,
   "metadata": {},
   "outputs": [
    {
     "name": "stdout",
     "output_type": "stream",
     "text": [
      "{'cdefab'}\n"
     ]
    }
   ],
   "source": [
    "V.compute_Kemeny_result()\n",
    "V.show_Kemeny_result()"
   ]
  },
  {
   "cell_type": "code",
   "execution_count": 7,
   "id": "3d318921",
   "metadata": {},
   "outputs": [
    {
     "name": "stdout",
     "output_type": "stream",
     "text": [
      "['bcad', 'abcd', 'bcad', 'bacd', 'dcba', 'bcda']\n"
     ]
    },
    {
     "data": {
      "text/plain": [
       "[]"
      ]
     },
     "execution_count": 7,
     "metadata": {},
     "output_type": "execute_result"
    }
   ],
   "source": [
    "SPO = ['abcd', 'bacd', 'bcad', 'bcda', 'cbad', 'cbda', 'cdba', 'dcba']\n",
    "random.choice(SPO)\n",
    "n = 6\n",
    "P = Profile([random.choice(SPO) for i in range(n)])\n",
    "print(P)\n",
    "G = P.majority_graph()\n",
    "G.cycles()\n",
    "# G.draw()"
   ]
  }
 ],
 "metadata": {
  "kernelspec": {
   "display_name": "Python 3.8.13 ('base')",
   "language": "python",
   "name": "python3"
  },
  "language_info": {
   "codemirror_mode": {
    "name": "ipython",
    "version": 3
   },
   "file_extension": ".py",
   "mimetype": "text/x-python",
   "name": "python",
   "nbconvert_exporter": "python",
   "pygments_lexer": "ipython3",
   "version": "3.8.13"
  },
  "vscode": {
   "interpreter": {
    "hash": "ad2bdc8ecc057115af97d19610ffacc2b4e99fae6737bb82f5d7fb13d2f2c186"
   }
  }
 },
 "nbformat": 4,
 "nbformat_minor": 5
}
